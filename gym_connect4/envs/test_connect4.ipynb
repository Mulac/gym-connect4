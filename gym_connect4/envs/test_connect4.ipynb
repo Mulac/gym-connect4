{
 "cells": [
  {
   "cell_type": "code",
   "execution_count": 1,
   "metadata": {},
   "outputs": [],
   "source": [
    "from gym_connect4.envs.connect4 import Connect4"
   ]
  },
  {
   "cell_type": "code",
   "execution_count": 3,
   "metadata": {},
   "outputs": [
    {
     "output_type": "stream",
     "name": "stdout",
     "text": "\n[[ 0  0  0 -1  0  0  0]\n [ 0  0  0  1  0  0  0]\n [ 0  0  0 -1  0  0  0]\n [ 0  0  0 -1  0  0  0]\n [ 0  0  0 -1  0  0  0]\n [ 0  1  1  1  0  0  0]]\n"
    },
    {
     "output_type": "execute_result",
     "data": {
      "text/plain": "(None, [0, 1, 2, 4, 5, 6])"
     },
     "metadata": {},
     "execution_count": 3
    }
   ],
   "source": [
    "game = Connect4()\n",
    "game.make_move(3)\n",
    "game.make_move(3)\n",
    "game.make_move(1)\n",
    "game.make_move(3)\n",
    "game.make_move(2)\n",
    "game.make_move(3)\n",
    "game.make_move(3)\n",
    "game.make_move(3)\n",
    "\n",
    "game.show()\n",
    "game.winner, game.legal_moves"
   ]
  },
  {
   "cell_type": "code",
   "execution_count": null,
   "metadata": {},
   "outputs": [],
   "source": []
  }
 ],
 "metadata": {
  "language_info": {
   "codemirror_mode": {
    "name": "ipython",
    "version": 3
   },
   "file_extension": ".py",
   "mimetype": "text/x-python",
   "name": "python",
   "nbconvert_exporter": "python",
   "pygments_lexer": "ipython3",
   "version": "3.7.5-final"
  },
  "orig_nbformat": 2,
  "kernelspec": {
   "name": "python3",
   "display_name": "Python 3"
  }
 },
 "nbformat": 4,
 "nbformat_minor": 2
}