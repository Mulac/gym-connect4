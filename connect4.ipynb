{
 "cells": [
  {
   "cell_type": "markdown",
   "metadata": {},
   "source": [
    "### Initilise gym enviroment "
   ]
  },
  {
   "cell_type": "code",
   "execution_count": 1,
   "metadata": {},
   "outputs": [
    {
     "data": {
      "text/plain": [
       "(7, 42)"
      ]
     },
     "execution_count": 1,
     "metadata": {},
     "output_type": "execute_result"
    }
   ],
   "source": [
    "import gym\n",
    "import numpy as np\n",
    "import random\n",
    "\n",
    "env = gym.make('gym_connect4:connect4-v0')\n",
    "\n",
    "num_actions = env.action_space.n\n",
    "state_size = env.observation_space.n\n",
    "num_actions, state_size"
   ]
  },
  {
   "cell_type": "code",
   "execution_count": 2,
   "metadata": {},
   "outputs": [],
   "source": [
    "import matplotlib.pyplot as plt\n",
    "%matplotlib inline"
   ]
  },
  {
   "cell_type": "markdown",
   "metadata": {},
   "source": [
    "### Define Hyper-parameters"
   ]
  },
  {
   "cell_type": "code",
   "execution_count": 3,
   "metadata": {},
   "outputs": [],
   "source": [
    "gamma = 0.95    # discount rate\n",
    "epsilon = 1.0   # exploration rate\n",
    "epsilon_min = 0.001\n",
    "epsilon_decay = 0.9995\n",
    "learning_rate = 0.01"
   ]
  },
  {
   "cell_type": "markdown",
   "metadata": {},
   "source": [
    "### Create Network\n",
    "\n",
    "    Input:  state observation\n",
    "    \n",
    "    Output: policy distribution\n",
    "            value prediction"
   ]
  },
  {
   "cell_type": "code",
   "execution_count": 4,
   "metadata": {},
   "outputs": [],
   "source": [
    "import torch\n",
    "import torch.nn as nn\n",
    "import torch.nn.functional as F\n",
    "import torch.optim as optim\n",
    "    \n",
    "model = nn.Sequential(\n",
    "            nn.Linear(state_size, 128),\n",
    "            nn.ReLU(),\n",
    "            nn.Linear(128, 128),\n",
    "            nn.ReLU(),\n",
    "            nn.Linear(128, num_actions)\n",
    "        )"
   ]
  },
  {
   "cell_type": "markdown",
   "metadata": {},
   "source": [
    "### Create Experience Replay"
   ]
  },
  {
   "cell_type": "code",
   "execution_count": 5,
   "metadata": {},
   "outputs": [],
   "source": [
    "from collections import namedtuple\n",
    "Transition = namedtuple('Transition', 'state action n_state reward done')\n",
    "\n",
    "# model = DQN()\n",
    "if torch.cuda.is_available():\n",
    "    model = model.cuda()\n",
    "    \n",
    "dev = 0\n",
    "\n",
    "optimizer = optim.Adam(model.parameters())"
   ]
  },
  {
   "cell_type": "code",
   "execution_count": 6,
   "metadata": {},
   "outputs": [
    {
     "data": {
      "text/plain": [
       "tensor(0.1041, device='cuda:0', grad_fn=<MaxBackward1>)"
      ]
     },
     "execution_count": 6,
     "metadata": {},
     "output_type": "execute_result"
    }
   ],
   "source": [
    "state = env.reset()\n",
    "state = torch.FloatTensor(state).cuda()\n",
    "model(state).max()"
   ]
  },
  {
   "cell_type": "markdown",
   "metadata": {},
   "source": [
    "### Train the agent"
   ]
  },
  {
   "cell_type": "code",
   "execution_count": 7,
   "metadata": {},
   "outputs": [],
   "source": [
    "batch_size = 750\n",
    "num_episodes = 50000"
   ]
  },
  {
   "cell_type": "code",
   "execution_count": 8,
   "metadata": {},
   "outputs": [
    {
     "data": {
      "image/png": "[encoded data removed]",
      "text/plain": [
       "<Figure size 432x288 with 1 Axes>"
      ]
     },
     "metadata": {
      "needs_background": "light"
     },
     "output_type": "display_data"
    }
   ],
   "source": [
    "def decay():\n",
    "    global epsilon\n",
    "    if epsilon > epsilon_min:\n",
    "        epsilon *= epsilon_decay\n",
    "        \n",
    "    return epsilon\n",
    "        \n",
    "plt.plot([decay() for t in range(9000)])\n",
    "epsilon = 1"
   ]
  },
  {
   "cell_type": "code",
   "execution_count": 9,
   "metadata": {},
   "outputs": [],
   "source": [
    "def act(state):\n",
    "    # Decay exploration rate\n",
    "    decay()\n",
    "    \n",
    "    # Convert state represenation into tensor\n",
    "    state = torch.tensor(state, dtype=torch.float, device=dev)\n",
    "    \n",
    "    # 𝜺-greedy exploration\n",
    "    if np.random.rand() <= epsilon:\n",
    "        return np.random.choice(num_actions)\n",
    "    \n",
    "    return model(state).argmax().item()"
   ]
  },
  {
   "cell_type": "code",
   "execution_count": 10,
   "metadata": {},
   "outputs": [],
   "source": [
    "def train(batch):\n",
    "    states = torch.tensor([x.state for x in batch], dtype=torch.float, device=dev)\n",
    "    actions = torch.as_tensor([x.action for x in batch], dtype=torch.long, device=dev)\n",
    "    rewards = torch.as_tensor([x.reward for x in batch], dtype=torch.float, device=dev)\n",
    "    next_states = torch.as_tensor([x.n_state for x in batch], dtype=torch.float, device=dev)\n",
    "    done = torch.as_tensor([x.done for x in batch], device=dev)\n",
    "\n",
    "    q_values      = model(states)\n",
    "    next_q_values = model(next_states)\n",
    "\n",
    "    q_value          = q_values.gather(1, actions.unsqueeze(1)).squeeze(1)\n",
    "    next_q_value     = next_q_values.max(1)[0]\n",
    "    expected_q_value = rewards + gamma * next_q_value * ~done\n",
    "    \n",
    "    loss_fn = nn.MSELoss()\n",
    "    loss = loss_fn(q_value, expected_q_value)\n",
    "    \n",
    "    optimizer.zero_grad()\n",
    "    loss.backward()\n",
    "    optimizer.step()\n",
    "    \n",
    "    return loss"
   ]
  },
  {
   "cell_type": "code",
   "execution_count": 11,
   "metadata": {
    "scrolled": true
   },
   "outputs": [
    {
     "ename": "AttributeError",
     "evalue": "'Connect4' object has no attribute 'possible_moves'",
     "output_type": "error",
     "traceback": [
      "\u001B[0;31m---------------------------------------------------------------------------\u001B[0m",
      "\u001B[0;31mAttributeError\u001B[0m                            Traceback (most recent call last)",
      "\u001B[0;32m<ipython-input-11-5676f375de3d>\u001B[0m in \u001B[0;36m<module>\u001B[0;34m\u001B[0m\n\u001B[1;32m      9\u001B[0m         \u001B[0;31m# Choose an action\u001B[0m\u001B[0;34m\u001B[0m\u001B[0;34m\u001B[0m\u001B[0;34m\u001B[0m\u001B[0m\n\u001B[1;32m     10\u001B[0m         \u001B[0maction\u001B[0m \u001B[0;34m=\u001B[0m \u001B[0mact\u001B[0m\u001B[0;34m(\u001B[0m\u001B[0mstate\u001B[0m\u001B[0;34m)\u001B[0m\u001B[0;34m\u001B[0m\u001B[0;34m\u001B[0m\u001B[0m\n\u001B[0;32m---> 11\u001B[0;31m         \u001B[0mnew_state\u001B[0m\u001B[0;34m,\u001B[0m \u001B[0mreward\u001B[0m\u001B[0;34m,\u001B[0m \u001B[0mdone\u001B[0m\u001B[0;34m,\u001B[0m \u001B[0minfo\u001B[0m \u001B[0;34m=\u001B[0m \u001B[0menv\u001B[0m\u001B[0;34m.\u001B[0m\u001B[0mstep\u001B[0m\u001B[0;34m(\u001B[0m\u001B[0maction\u001B[0m\u001B[0;34m)\u001B[0m\u001B[0;34m\u001B[0m\u001B[0;34m\u001B[0m\u001B[0m\n\u001B[0m\u001B[1;32m     12\u001B[0m \u001B[0;34m\u001B[0m\u001B[0m\n\u001B[1;32m     13\u001B[0m         \u001B[0mmemory\u001B[0m\u001B[0;34m.\u001B[0m\u001B[0mappend\u001B[0m\u001B[0;34m(\u001B[0m\u001B[0mTransition\u001B[0m\u001B[0;34m(\u001B[0m\u001B[0mstate\u001B[0m\u001B[0;34m,\u001B[0m \u001B[0maction\u001B[0m\u001B[0;34m,\u001B[0m \u001B[0mnew_state\u001B[0m\u001B[0;34m,\u001B[0m \u001B[0mreward\u001B[0m\u001B[0;34m,\u001B[0m \u001B[0mdone\u001B[0m\u001B[0;34m)\u001B[0m\u001B[0;34m)\u001B[0m\u001B[0;34m\u001B[0m\u001B[0;34m\u001B[0m\u001B[0m\n",
      "\u001B[0;32m~/Documents/gym-tictactoe/gym_connect4/envs/connect4_env.py\u001B[0m in \u001B[0;36mstep\u001B[0;34m(self, action)\u001B[0m\n\u001B[1;32m     17\u001B[0m     \u001B[0mreward\u001B[0m \u001B[0;34m=\u001B[0m \u001B[0;36m0\u001B[0m\u001B[0;34m\u001B[0m\u001B[0;34m\u001B[0m\u001B[0m\n\u001B[1;32m     18\u001B[0m \u001B[0;34m\u001B[0m\u001B[0m\n\u001B[0;32m---> 19\u001B[0;31m     \u001B[0;32mif\u001B[0m \u001B[0maction\u001B[0m \u001B[0;32mnot\u001B[0m \u001B[0;32min\u001B[0m \u001B[0mself\u001B[0m\u001B[0;34m.\u001B[0m\u001B[0mgame\u001B[0m\u001B[0;34m.\u001B[0m\u001B[0mpossible_moves\u001B[0m\u001B[0;34m:\u001B[0m\u001B[0;34m\u001B[0m\u001B[0;34m\u001B[0m\u001B[0m\n\u001B[0m\u001B[1;32m     20\u001B[0m       \u001B[0mreward\u001B[0m \u001B[0;34m=\u001B[0m \u001B[0;34m-\u001B[0m\u001B[0;36m10\u001B[0m\u001B[0;34m\u001B[0m\u001B[0;34m\u001B[0m\u001B[0m\n\u001B[1;32m     21\u001B[0m \u001B[0;34m\u001B[0m\u001B[0m\n",
      "\u001B[0;31mAttributeError\u001B[0m: 'Connect4' object has no attribute 'possible_moves'"
     ]
    }
   ],
   "source": [
    "memory = []\n",
    "memory.clear()\n",
    "loss = []\n",
    "\n",
    "for episode in range(num_episodes):\n",
    "    state = env.reset()\n",
    "    \n",
    "    for t in range(10000):\n",
    "        # Choose an action\n",
    "        action = act(state)\n",
    "        new_state, reward, done, info = env.step(action)\n",
    "        \n",
    "        memory.append(Transition(state, action, new_state, reward, done))\n",
    "        \n",
    "        state = new_state\n",
    "        \n",
    "        if len(memory) > batch_size:\n",
    "            batch = random.sample(memory, batch_size)\n",
    "            l = train(batch)\n",
    "            loss.append(l)\n",
    "            print(\"training batch... got loss \", l)\n",
    "            memory.clear()\n",
    "            \n",
    "        if done:\n",
    "#             print(\"Episode finished after {} timesteps. Player {} wins\".format(t+1, env.game.winner))\n",
    "#             env.game.show()\n",
    "            break\n",
    "    \n",
    "env.close()\n",
    "plt.plot(loss)"
   ]
  },
  {
   "cell_type": "markdown",
   "metadata": {},
   "source": [
    "### Test"
   ]
  },
  {
   "cell_type": "code",
   "execution_count": 12,
   "metadata": {},
   "outputs": [
    {
     "ename": "AttributeError",
     "evalue": "'Connect4' object has no attribute 'possible_moves'",
     "output_type": "error",
     "traceback": [
      "\u001B[0;31m---------------------------------------------------------------------------\u001B[0m",
      "\u001B[0;31mAttributeError\u001B[0m                            Traceback (most recent call last)",
      "\u001B[0;32m<ipython-input-12-3f48e8ac8683>\u001B[0m in \u001B[0;36m<module>\u001B[0;34m\u001B[0m\n\u001B[1;32m      6\u001B[0m \u001B[0;32mwhile\u001B[0m \u001B[0;32mnot\u001B[0m \u001B[0mdone\u001B[0m\u001B[0;34m:\u001B[0m\u001B[0;34m\u001B[0m\u001B[0;34m\u001B[0m\u001B[0m\n\u001B[1;32m      7\u001B[0m     \u001B[0maction\u001B[0m \u001B[0;34m=\u001B[0m \u001B[0mact\u001B[0m\u001B[0;34m(\u001B[0m\u001B[0mstate\u001B[0m\u001B[0;34m)\u001B[0m\u001B[0;34m\u001B[0m\u001B[0;34m\u001B[0m\u001B[0m\n\u001B[0;32m----> 8\u001B[0;31m     \u001B[0mstate\u001B[0m\u001B[0;34m,\u001B[0m \u001B[0mreward\u001B[0m\u001B[0;34m,\u001B[0m \u001B[0mdone\u001B[0m\u001B[0;34m,\u001B[0m \u001B[0minfo\u001B[0m \u001B[0;34m=\u001B[0m \u001B[0menv\u001B[0m\u001B[0;34m.\u001B[0m\u001B[0mstep\u001B[0m\u001B[0;34m(\u001B[0m\u001B[0maction\u001B[0m\u001B[0;34m)\u001B[0m\u001B[0;34m\u001B[0m\u001B[0;34m\u001B[0m\u001B[0m\n\u001B[0m\u001B[1;32m      9\u001B[0m     \u001B[0menv\u001B[0m\u001B[0;34m.\u001B[0m\u001B[0mgame\u001B[0m\u001B[0;34m.\u001B[0m\u001B[0mshow\u001B[0m\u001B[0;34m(\u001B[0m\u001B[0;34m)\u001B[0m\u001B[0;34m\u001B[0m\u001B[0;34m\u001B[0m\u001B[0m\n\u001B[1;32m     10\u001B[0m     \u001B[0mprint\u001B[0m\u001B[0;34m(\u001B[0m\u001B[0mreward\u001B[0m\u001B[0;34m)\u001B[0m\u001B[0;34m\u001B[0m\u001B[0;34m\u001B[0m\u001B[0m\n",
      "\u001B[0;32m~/Documents/gym-tictactoe/gym_connect4/envs/connect4_env.py\u001B[0m in \u001B[0;36mstep\u001B[0;34m(self, action)\u001B[0m\n\u001B[1;32m     17\u001B[0m     \u001B[0mreward\u001B[0m \u001B[0;34m=\u001B[0m \u001B[0;36m0\u001B[0m\u001B[0;34m\u001B[0m\u001B[0;34m\u001B[0m\u001B[0m\n\u001B[1;32m     18\u001B[0m \u001B[0;34m\u001B[0m\u001B[0m\n\u001B[0;32m---> 19\u001B[0;31m     \u001B[0;32mif\u001B[0m \u001B[0maction\u001B[0m \u001B[0;32mnot\u001B[0m \u001B[0;32min\u001B[0m \u001B[0mself\u001B[0m\u001B[0;34m.\u001B[0m\u001B[0mgame\u001B[0m\u001B[0;34m.\u001B[0m\u001B[0mpossible_moves\u001B[0m\u001B[0;34m:\u001B[0m\u001B[0;34m\u001B[0m\u001B[0;34m\u001B[0m\u001B[0m\n\u001B[0m\u001B[1;32m     20\u001B[0m       \u001B[0mreward\u001B[0m \u001B[0;34m=\u001B[0m \u001B[0;34m-\u001B[0m\u001B[0;36m10\u001B[0m\u001B[0;34m\u001B[0m\u001B[0;34m\u001B[0m\u001B[0m\n\u001B[1;32m     21\u001B[0m \u001B[0;34m\u001B[0m\u001B[0m\n",
      "\u001B[0;31mAttributeError\u001B[0m: 'Connect4' object has no attribute 'possible_moves'"
     ]
    }
   ],
   "source": [
    "# Take only greedy actions\n",
    "epsilon = 0\n",
    "\n",
    "start, done = env.reset(), False\n",
    "\n",
    "while not done:\n",
    "    action = act(state)\n",
    "    state, reward, done, info = env.step(action)\n",
    "    env.game.show()\n",
    "    print(reward)"
   ]
  },
  {
   "cell_type": "code",
   "execution_count": 13,
   "metadata": {},
   "outputs": [],
   "source": [
    "import torch\n",
    "import torch.nn as nn\n",
    "import torch.optim as optim\n",
    "\n",
    "class DQNAgent():\n",
    "    def __init__(self, state_size, action_size):\n",
    "        self.state_size = state_size\n",
    "        self.action_size = action_size\n",
    "        \n",
    "        self.gamma = 0.95    # discount rate\n",
    "        self.epsilon = 1.0   # exploration rate\n",
    "        self.epsilon_min = 0.001\n",
    "        self.epsilon_decay = 0.99995\n",
    "        self.learning_rate = 0.01\n",
    "        \n",
    "        self.model = self._build_model()\n",
    "        self.optimizer = optim.Adam(self.model.parameters(), lr=self.learning_rate)\n",
    "        self.loss = nn.MSELoss()\n",
    "\n",
    "    def _build_model(self):\n",
    "        # Neural Net for Deep-Q learning Model\n",
    "        return nn.Sequential(\n",
    "                nn.Linear(self.state_size, 32),\n",
    "                nn.ReLU(),\n",
    "                nn.Linear(32, 52),\n",
    "                nn.ReLU(),\n",
    "                nn.Linear(52, 32),\n",
    "                nn.ReLU(),\n",
    "                nn.Linear(32, self.action_size))\n",
    "\n",
    "    def act(self, state):\n",
    "        self.decay()\n",
    "        # Explore\n",
    "        print(self.epsilon)\n",
    "        if np.random.rand() <= self.epsilon:\n",
    "            return np.random.choice(action_space_size)\n",
    "            \n",
    "        # Greedy\n",
    "        state = torch.FloatTensor(state)\n",
    "        act_values = self.model(state)\n",
    "        return act_values.argmax().item()\n",
    "    \n",
    "    def decay(self):\n",
    "        if self.epsilon > self.epsilon_min:\n",
    "            self.epsilon *= self.epsilon_decay\n",
    "    \n",
    "    def train(self, state, new_state, action, reward):\n",
    "        state = torch.FloatTensor(state)\n",
    "        reward = torch.tensor([])\n",
    "        print(reward, type(reward))\n",
    "        \n",
    "        q_value = self.model(state)[action]\n",
    "        \n",
    "        loss = self.loss(q_value, reward)\n",
    "        \n",
    "        self.optimizer.zero_grad()\n",
    "        loss.backward()\n",
    "        self.optimizer.step()\n",
    "        \n",
    "        print(loss.item(), q_value, reward)"
   ]
  },
  {
   "cell_type": "code",
   "execution_count": 4,
   "metadata": {},
   "outputs": [
    {
     "name": "stdout",
     "output_type": "stream",
     "text": [
      "1 <itertools._grouper object at 0x7f30d470fa90>\n",
      "0 <itertools._grouper object at 0x7f30e46bd710>\n",
      "2 <itertools._grouper object at 0x7f30e46bdb90>\n",
      "4 <itertools._grouper object at 0x7f30d4705a10>\n",
      "2 <itertools._grouper object at 0x7f30d4705650>\n"
     ]
    }
   ],
   "source": [
    "x = [1, 1, 1, 0, 2, 4, 2, 2]\n",
    "from itertools import groupby\n",
    "for k, g in groupby(x):\n",
    "    print(k, g)"
   ]
  },
  {
   "cell_type": "code",
   "execution_count": 19,
   "metadata": {},
   "outputs": [
    {
     "data": {
      "text/plain": [
       "[1, 2, 4, 5, 6, 6, 4]"
      ]
     },
     "execution_count": 19,
     "metadata": {},
     "output_type": "execute_result"
    }
   ],
   "source": [
    "x = {1:[1,2, 4], 2:[5,6 ,6], 3:[4]}\n",
    "[v for col in x.values() for v in col]"
   ]
  },
  {
   "cell_type": "code",
   "execution_count": 118,
   "metadata": {},
   "outputs": [],
   "source": [
    "class connect4:\n",
    "    def __init__(self):\n",
    "        self.board = {1: [0]*6,\n",
    "                      2: [0]*6,\n",
    "                      3: [0]*6,\n",
    "                      4: [0]*6,\n",
    "                      5: [0]*6,\n",
    "                      6: [0]*6,\n",
    "                      7: [0]*6}\n",
    "        self.possible_moves = [i for i in range(1, 8)]\n",
    "        self.player = 0\n",
    "        self.winner = None\n",
    "        \n",
    "    def make_move(self, move):\n",
    "        if move not in self.possible_moves:\n",
    "            raise ValueError(\"move is not possible\")\n",
    "            \n",
    "        # Switch the player and play their move in the top of the specified column\n",
    "        self.player = 1 if self.player != 1 else 2\n",
    "        top_of_col = self.board[move].index(0)\n",
    "        self.board[move][top_of_col] = self.player\n",
    "        \n",
    "        # Players have reached the top of column so remove it from possible actions\n",
    "        if top_of_col >= 5:\n",
    "            self.possible_moves.remove(move)\n",
    "            \n",
    "        if self.check_winner(move, top_of_col):\n",
    "            self.winner = self.player\n",
    "            \n",
    "    def check_winner(self, col, row):\n",
    "        # just to keep variable names short\n",
    "        val = self.player\n",
    "        brd = self.board\n",
    "\n",
    "        # check right \n",
    "        if col <= 4:\n",
    "            # Horizontal\n",
    "            if brd[col+1][row] == brd[col+2][row] == brd[col+3][row] == val:\n",
    "                return True\n",
    "            # Diagonal Down\n",
    "            if row >= 3 and brd[col+1][row-1] == brd[col+2][row-2] == brd[col+3][row-3] == val:\n",
    "                return True\n",
    "            # Diagonal Up\n",
    "            if row <= 2 and brd[col+1][row+1] == brd[col+2][row+2] == brd[col+3][row+3] == val:\n",
    "                return True\n",
    "        \n",
    "        # check left\n",
    "        if col >= 4:\n",
    "            # Horizontal\n",
    "            if brd[col-1][row] == brd[col-2][row] == brd[col-3][row] == val:\n",
    "                return True\n",
    "            # Diagonal Down\n",
    "            if row >= 3 and brd[col-1][row-1] == brd[col-2][row-2] == brd[col-3][row-3] == val:\n",
    "                return True\n",
    "            # Diagonal Up\n",
    "            if row <= 2 and brd[col-1][row+1] == brd[col-2][row+2] == brd[col-3][row+3] == val:\n",
    "                return True\n",
    "            \n",
    "        # check vertical\n",
    "        return any(1 for key, group in groupby(brd[col]) if len(list(group)) > 3 and key == val)"
   ]
  },
  {
   "cell_type": "code",
   "execution_count": 146,
   "metadata": {},
   "outputs": [
    {
     "name": "stdout",
     "output_type": "stream",
     "text": [
      "None\n",
      "None\n",
      "None\n",
      "None\n",
      "None\n",
      "[0, 2, 0, 0, 0, 0, 0]\n",
      "[0, 1, 0, 0, 0, 0, 0]\n",
      "[0, 2, 0, 0, 0, 0, 0]\n",
      "[0, 1, 0, 0, 0, 0, 0]\n",
      "[0, 2, 0, 0, 0, 0, 2]\n",
      "[0, 1, 1, 1, 1, 0, 2]\n"
     ]
    }
   ],
   "source": [
    "game = connect4()\n",
    "print(game.winner)\n",
    "game.make_move(2)\n",
    "print(game.winner)\n",
    "game.make_move(2)\n",
    "print(game.winner)\n",
    "game.make_move(2)\n",
    "print(game.winner)\n",
    "game.make_move(2)\n",
    "game.make_move(2)\n",
    "game.make_move(2)\n",
    "print(game.winner)\n",
    "game.make_move(3)\n",
    "game.make_move(7)\n",
    "game.make_move(4)\n",
    "game.make_move(7)\n",
    "game.make_move(5)\n",
    "\n",
    "for x in range(5, -1, -1):\n",
    "    print([game.board[k][x] for k in game.board])"
   ]
  },
  {
   "cell_type": "code",
   "execution_count": 126,
   "metadata": {},
   "outputs": [],
   "source": [
    "class TicTacToe:\n",
    "    \"\"\"\n",
    "    Board is indexed:\n",
    "        [0, 1, 2,\n",
    "         3, 4, 5,\n",
    "         6, 7, 8]\n",
    "         \n",
    "         and contains either 0 or the player number (1 or 2)\n",
    "         \n",
    "    player represents the player who last moved\n",
    "    \"\"\"\n",
    "    \n",
    "    def __init__(self):\n",
    "        self.board = [0 for i in range(9)]\n",
    "        self.possible_moves = [i for i in range(9)]\n",
    "        self.player = 0\n",
    "    \n",
    "    def make_move(self, move):\n",
    "        assert move in self.possible_moves\n",
    "        \n",
    "        self.player = 1 if self.player != 1 else 2\n",
    "        self.board[move] = self.player\n",
    "        self.possible_moves.remove(move)\n",
    "        \n",
    "    def winner(self):\n",
    "        if all(self.board):\n",
    "            return 0\n",
    "        \n",
    "        lines = ((0,1,2),\n",
    "                 (3,4,5),\n",
    "                 (6,7,8),\n",
    "                 (0,3,6),\n",
    "                 (1,4,7),\n",
    "                 (2,5,8),\n",
    "                 (0,4,8),\n",
    "                 (2,4,6))\n",
    "        \n",
    "        for i, j, k in lines:\n",
    "            player = self.board[i]\n",
    "            if player and player == self.board[j] == self.board[k]:\n",
    "                return player\n",
    "            \n",
    "        return -1\n",
    "    \n",
    "    def render(self):\n",
    "        print(self.board[:3])\n",
    "        print(self.board[3:6])\n",
    "        print(self.board[6:9])"
   ]
  },
  {
   "cell_type": "code",
   "execution_count": 127,
   "metadata": {},
   "outputs": [],
   "source": [
    "x = TicTacToe()"
   ]
  },
  {
   "cell_type": "code",
   "execution_count": 16,
   "metadata": {
    "pycharm": {
     "name": "#%%\n"
    },
    "scrolled": true
   },
   "outputs": [
    {
     "ename": "NameError",
     "evalue": "name 'x' is not defined",
     "output_type": "error",
     "traceback": [
      "\u001B[0;31m---------------------------------------------------------------------------\u001B[0m",
      "\u001B[0;31mNameError\u001B[0m                                 Traceback (most recent call last)",
      "\u001B[0;32m<ipython-input-16-24f5383632d9>\u001B[0m in \u001B[0;36m<module>\u001B[0;34m\u001B[0m\n\u001B[0;32m----> 1\u001B[0;31m \u001B[0;32mwhile\u001B[0m \u001B[0mx\u001B[0m\u001B[0;34m.\u001B[0m\u001B[0mwinner\u001B[0m\u001B[0;34m(\u001B[0m\u001B[0;34m)\u001B[0m \u001B[0;32mis\u001B[0m \u001B[0;34m-\u001B[0m\u001B[0;36m1\u001B[0m\u001B[0;34m:\u001B[0m\u001B[0;34m\u001B[0m\u001B[0;34m\u001B[0m\u001B[0m\n\u001B[0m\u001B[1;32m      2\u001B[0m     \u001B[0mx\u001B[0m\u001B[0;34m.\u001B[0m\u001B[0mrender\u001B[0m\u001B[0;34m(\u001B[0m\u001B[0;34m)\u001B[0m\u001B[0;34m\u001B[0m\u001B[0;34m\u001B[0m\u001B[0m\n\u001B[1;32m      3\u001B[0m     \u001B[0mx\u001B[0m\u001B[0;34m.\u001B[0m\u001B[0mmake_move\u001B[0m\u001B[0;34m(\u001B[0m\u001B[0mint\u001B[0m\u001B[0;34m(\u001B[0m\u001B[0minput\u001B[0m\u001B[0;34m(\u001B[0m\u001B[0;34m\"Enter a move: \"\u001B[0m\u001B[0;34m)\u001B[0m\u001B[0;34m)\u001B[0m\u001B[0;34m)\u001B[0m\u001B[0;34m\u001B[0m\u001B[0;34m\u001B[0m\u001B[0m\n\u001B[1;32m      4\u001B[0m \u001B[0;34m\u001B[0m\u001B[0m\n\u001B[1;32m      5\u001B[0m \u001B[0mprint\u001B[0m\u001B[0;34m(\u001B[0m\u001B[0;34m\"\\n\\nand the winner is: {}\"\u001B[0m\u001B[0;34m.\u001B[0m\u001B[0mformat\u001B[0m\u001B[0;34m(\u001B[0m\u001B[0mx\u001B[0m\u001B[0;34m.\u001B[0m\u001B[0mwinner\u001B[0m\u001B[0;34m(\u001B[0m\u001B[0;34m)\u001B[0m\u001B[0;34m)\u001B[0m\u001B[0;34m)\u001B[0m\u001B[0;34m\u001B[0m\u001B[0;34m\u001B[0m\u001B[0m\n",
      "\u001B[0;31mNameError\u001B[0m: name 'x' is not defined"
     ]
    }
   ],
   "source": [
    "while x.winner() is -1:\n",
    "    x.render()\n",
    "    x.make_move(int(input(\"Enter a move: \")))\n",
    "    \n",
    "print(\"\\n\\nand the winner is: {}\".format(x.winner()))"
   ]
  },
  {
   "cell_type": "code",
   "execution_count": null,
   "metadata": {
    "pycharm": {
     "name": "#%%\n"
    }
   },
   "outputs": [],
   "source": [
    "\n"
   ]
  }
 ],
 "metadata": {
  "kernelspec": {
   "display_name": "Python 3",
   "language": "python",
   "name": "python3"
  },
  "language_info": {
   "codemirror_mode": {
    "name": "ipython",
    "version": 3
   },
   "file_extension": ".py",
   "mimetype": "text/x-python",
   "name": "python",
   "nbconvert_exporter": "python",
   "pygments_lexer": "ipython3",
   "version": "3.7.5"
  }
 },
 "nbformat": 4,
 "nbformat_minor": 2
}